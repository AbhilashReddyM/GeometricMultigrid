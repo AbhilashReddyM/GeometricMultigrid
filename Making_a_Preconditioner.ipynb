{
 "cells": [
  {
   "cell_type": "markdown",
   "metadata": {},
   "source": [
    "# The Making of a Preconditioner\n",
    "This is a demonstration of a multigrid preconditioned krylov solver in python3. The code and more examples are present on github here. The problem solved is a Poisson equation on a rectangular domain with homogenous dirichlet boundary conditions.  Finite difference with cell-centered discretization is used to get a second order accurate solution, that is further improved to 4th order using deferred correction.\n",
    "\n",
    "The first step is a multigrid algorithm. This is the simplest 2D geometric multigrid solver. \n",
    "\n",
    "### Multigrid algorithm\n",
    "We need some terminology before going further.\n",
    "- Approximation: \n",
    "- Residual:\n",
    "- Exact solution (of the discrete problem)\n",
    "- Correction\n",
    "\n",
    "This is a geometric multigrid algorithm, where a series of nested grids are used. There are four parts to a multigrid algorithm\n",
    "- Smoothing Operator (a.k.a Relaxation)\n",
    "- Restriction Operator\n",
    "- Interpolation Operator (a.k.a Prolongation Operator)\n",
    "- Bottom solver\n",
    "\n",
    "We will define each of these in sequence. These operators act of different quantities that are stored at the cell center. We will get to exactly what later on. To begin import numpy."
   ]
  },
  {
   "cell_type": "code",
   "execution_count": 65,
   "metadata": {
    "collapsed": true
   },
   "outputs": [],
   "source": [
    "import numpy as np"
   ]
  },
  {
   "cell_type": "markdown",
   "metadata": {},
   "source": [
    "### Smoothing operator\n",
    "This can be a certain number of Jacobi or a Gauss-Seidel iterations. Below is defined smoother that uses red-black Gauss Seidel sweeps and returns the result of the smoothing along with the residual."
   ]
  },
  {
   "cell_type": "code",
   "execution_count": 66,
   "metadata": {
    "collapsed": true
   },
   "outputs": [],
   "source": [
    "def GSrelax(nx,ny,u,f,iters=1):\n",
    "  '''\n",
    "  Gauss Seidel smoothing\n",
    "  '''\n",
    "  \n",
    "  dx=1.0/nx\n",
    "  dy=1.0/ny\n",
    "\n",
    "  Ax=1.0/dx**2\n",
    "  Ay=1.0/dy**2\n",
    "  Ap=1.0/(2.0*(Ax+Ay))\n",
    "\n",
    "  #BCs. Homogeneous Dirichlet BCs\n",
    "  u[ 0,:] = -u[ 1,:]\n",
    "  u[-1,:] = -u[-2,:]\n",
    "  u[:, 0] = -u[:, 1]\n",
    "  u[:,-1] = -u[:,-2]\n",
    "\n",
    "  for it in range(iters):\n",
    "    for c in [0,1]:#Red Black ordering\n",
    "     for i in range(1,nx+1):\n",
    "      start = 1 + (i%2) if c == 0 else 2 - (i%2)\n",
    "      for j in range(start,ny+1,2):\n",
    "         u[i,j]= Ap*( Ax*(u[i+1,j]+u[i-1,j])\n",
    "                     +Ay*(u[i,j+1]+u[i,j-1]) - f[i,j])\n",
    "\n",
    "    #BCs. Homogeneous Dirichlet BCs\n",
    "    u[ 0,:] = -u[ 1,:]\n",
    "    u[-1,:] = -u[-2,:]\n",
    "    u[:, 0] = -u[:, 1]\n",
    "    u[:,-1] = -u[:,-2]\n",
    "\n",
    "  #calculate the residual\n",
    "  res=np.zeros([nx+2,ny+2])\n",
    "  for i in range(1,nx+1):\n",
    "    for j in range(1,ny+1):\n",
    "      res[i,j]=f[i,j] - ((Ax*(u[i+1,j]+u[i-1,j])+Ay*(u[i,j+1]+u[i,j-1]) - 2.0*(Ax+Ay)*u[i,j]))\n",
    "  return u,res"
   ]
  },
  {
   "cell_type": "markdown",
   "metadata": {},
   "source": [
    "### Interpolation Operator\n",
    "This operator takes values on a coarse grid and transfers them onto a fine grid. It is also called prolongation. The function below uses bilinear interpolation for this purpose. 'v' is on a coarse grid and we want to interpolate it on a fine grid and store it in v_f. "
   ]
  },
  {
   "cell_type": "code",
   "execution_count": 67,
   "metadata": {
    "collapsed": true
   },
   "outputs": [],
   "source": [
    "def prolong(nx,ny,v):\n",
    "  '''\n",
    "  interpolate 'v' to the fine grid\n",
    "  '''\n",
    "  v_f=np.zeros([2*nx+2,2*ny+2])\n",
    "\n",
    "  for i in range(1,nx+1):\n",
    "    for j in range(1,ny+1):\n",
    "      v_f[2*i-1,2*j-1] = 0.5625*v[i,j]+0.1875*(v[i-1,j]+v[i,j-1])+0.0625*v[i-1,j-1]\n",
    "      v_f[2*i  ,2*j-1] = 0.5625*v[i,j]+0.1875*(v[i+1,j]+v[i,j-1])+0.0625*v[i+1,j-1]\n",
    "      v_f[2*i-1,2*j  ] = 0.5625*v[i,j]+0.1875*(v[i-1,j]+v[i,j+1])+0.0625*v[i-1,j+1]\n",
    "      v_f[2*i  ,2*j  ] = 0.5625*v[i,j]+0.1875*(v[i+1,j]+v[i,j+1])+0.0625*v[i+1,j+1]\n",
    "  return v_f"
   ]
  },
  {
   "cell_type": "markdown",
   "metadata": {},
   "source": [
    "### Restriction\n",
    "This is exactly the opposite of the interpolation. It takes values from the find grid and transfers them onto the coarse grid. It is kind of an averaging process. *This is fundamentally different from interpolation*. Each coarse grid point is surrounded by four fine grid points. So quite simply we take the value of the coarse point to be the average of 4 fine points. Here 'v' is the fine grid quantity and 'v_c' is the coarse grid quantity "
   ]
  },
  {
   "cell_type": "code",
   "execution_count": 68,
   "metadata": {
    "collapsed": true
   },
   "outputs": [],
   "source": [
    "def restrict(nx,ny,v):\n",
    "  '''\n",
    "  restrict 'v' to the coarser grid\n",
    "  '''\n",
    "  v_c=np.zeros([nx+2,ny+2])\n",
    "  \n",
    "  for i in range(1,nx+1):\n",
    "    for j in range(1,ny+1):\n",
    "      v_c[i,j]=0.25*(v[2*i-1,2*j-1]+v[2*i,2*j-1]+v[2*i-1,2*j]+v[2*i,2*j])\n",
    "  return v_c"
   ]
  },
  {
   "cell_type": "markdown",
   "metadata": {},
   "source": [
    "Note that we have looped over the coarse grid in both the cases above. It is easier to access the variables this way. The last part is the Bottom Solver. This must be something that gives us the exact/converged solution to what ever we feed it. What we feed to the bottom solver is the problem at the coarsest level. This has generally has very few points (e.g 2x2=4 in our case) and can be solved exactly  by the smoother itself with few iterations. That is what we do here but, any other direct method can also be used. 50 Iterations are used here. If we coarsify to just one point, then just one iteration will solve it exactly.\n",
    "### V-cycle\n",
    "Now that we have all the parts, we are ready to build our multigrid algorithm. First we will look at a V-cycle. It is self explanatory. It is a recursive function ,i.e., it calls itself. It takes as input an initial guess 'u', the rhs 'f', the number of multigrid levels 'num_levels' among other things. At each level the V cycle calls another V-cycle. At the lowest level the solving is exact."
   ]
  },
  {
   "cell_type": "code",
   "execution_count": 69,
   "metadata": {
    "collapsed": true
   },
   "outputs": [],
   "source": [
    "def V_cycle(nx,ny,num_levels,u,f,level=1):\n",
    "  '''\n",
    "  V cycle\n",
    "  '''\n",
    "  if(level==num_levels):#bottom solve\n",
    "    u,res=GSrelax(nx,ny,u,f,iters=50)\n",
    "    return u,res\n",
    "\n",
    "  #Step 1: Relax Au=f on this grid\n",
    "  u,res=GSrelax(nx,ny,u,f,iters=1)\n",
    "\n",
    "  #Step 2: Restrict residual to coarse grid\n",
    "  res_c=restrict(nx//2,ny//2,res)\n",
    "\n",
    "  #Step 3:Solve A e_c=res_c on the coarse grid. (Recursively)\n",
    "  e_c=np.zeros_like(res_c)\n",
    "  e_c,res_c=V_cycle(nx//2,ny//2,num_levels,e_c,res_c,level+1)\n",
    "\n",
    "  #Step 4: Interpolate(prolong) e_c to fine grid and add to u\n",
    "  u+=prolong(nx//2,ny//2,e_c)\n",
    "  \n",
    "  #Step 5: Relax Au=f on this grid\n",
    "  u,res=GSrelax(nx,ny,u,f,iters=1)\n",
    "  return u,res"
   ]
  },
  {
   "cell_type": "markdown",
   "metadata": {},
   "source": [
    "Thats it! Now we can see it in action. We can use a problem with a known solution to test our code. The following functions set up a rhs for a problem with homogenous dirichlet BC on the unit square."
   ]
  },
  {
   "cell_type": "code",
   "execution_count": 70,
   "metadata": {
    "collapsed": true
   },
   "outputs": [],
   "source": [
    "#analytical solution\n",
    "def Uann(x,y):\n",
    "   return (x**3-x)*(y**3-y)\n",
    "#RHS corresponding to above\n",
    "def source(x,y):\n",
    "  return 6*x*y*(x**2+ y**2 - 2)"
   ]
  },
  {
   "cell_type": "markdown",
   "metadata": {},
   "source": [
    "Let us set up the problem, discretization and solver details. The number of divisions along each dimension is given as a power of two function of the number of levels. In principle this is not required, but having it makes the inter-grid transfers easy.\n",
    "The coarsest problem is going to have a 2-by-2 grid."
   ]
  },
  {
   "cell_type": "code",
   "execution_count": 71,
   "metadata": {
    "collapsed": true
   },
   "outputs": [],
   "source": [
    "#input\n",
    "max_cycles = 18           #maximum numbera of V cycles\n",
    "nlevels    = 6            #total number of grid levels. 1 means no multigrid, 2 means one coarse grid. etc \n",
    "NX         = 2*2**(nlevels-1) #Nx and Ny are given as function of grid levels\n",
    "NY         = 2*2**(nlevels-1) #\n",
    "tol        = 1e-15      "
   ]
  },
  {
   "cell_type": "code",
   "execution_count": 72,
   "metadata": {
    "collapsed": true
   },
   "outputs": [],
   "source": [
    "#the grid has one layer of ghost cells to help apply the boundary conditions\n",
    "uann=np.zeros([NX+2,NY+2])#analytical solution\n",
    "u   =np.zeros([NX+2,NY+2])#approximation\n",
    "f   =np.zeros([NX+2,NY+2])#RHS\n",
    "\n",
    "#calcualte the RHS and exact solution\n",
    "DX=1.0/NX\n",
    "DY=1.0/NY\n",
    "\n",
    "xc=np.linspace(0.5*DX,1-0.5*DX,NX)\n",
    "yc=np.linspace(0.5*DY,1-0.5*DY,NY)\n",
    "XX,YY=np.meshgrid(xc,yc,indexing='ij')\n",
    "\n",
    "uann[1:NX+1,1:NY+1]=Uann(XX,YY)\n",
    "f[1:NX+1,1:NY+1]   =source(XX,YY)"
   ]
  },
  {
   "cell_type": "markdown",
   "metadata": {},
   "source": [
    "Now we can call the solver"
   ]
  },
  {
   "cell_type": "code",
   "execution_count": 73,
   "metadata": {
    "collapsed": false
   },
   "outputs": [
    {
     "name": "stdout",
     "output_type": "stream",
     "text": [
      "mgd2d.py solver:\n",
      "NX: 64 , NY: 64 , tol: 1e-15 levels:  6\n",
      "  cycle:  1 , L_inf(res.)=  0.968830183519 ,L_inf(true error):  0.0180876765409\n",
      "  cycle:  2 , L_inf(res.)=  0.0928861647894 ,L_inf(true error):  0.00210101629048\n",
      "  cycle:  3 , L_inf(res.)=  0.011741034617 ,L_inf(true error):  0.000219388369234\n",
      "  cycle:  4 , L_inf(res.)=  0.00146634359407 ,L_inf(true error):  6.86338002627e-05\n",
      "  cycle:  5 , L_inf(res.)=  0.000184974653621 ,L_inf(true error):  6.91582666323e-05\n",
      "  cycle:  6 , L_inf(res.)=  2.38792108576e-05 ,L_inf(true error):  6.92183759893e-05\n",
      "  cycle:  7 , L_inf(res.)=  3.29605450133e-06 ,L_inf(true error):  6.92253076705e-05\n",
      "  cycle:  8 , L_inf(res.)=  4.98341705679e-07 ,L_inf(true error):  6.92261513733e-05\n",
      "  cycle:  9 , L_inf(res.)=  7.39335064281e-08 ,L_inf(true error):  6.92262569687e-05\n",
      "  cycle:  10 , L_inf(res.)=  1.08447011371e-08 ,L_inf(true error):  6.92262702336e-05\n",
      "  cycle:  11 , L_inf(res.)=  1.57899648912e-09 ,L_inf(true error):  6.92262719148e-05\n",
      "  cycle:  12 , L_inf(res.)=  2.28737917496e-10 ,L_inf(true error):  6.92262721314e-05\n",
      "  cycle:  13 , L_inf(res.)=  3.3082869777e-11 ,L_inf(true error):  6.92262721597e-05\n",
      "  cycle:  14 , L_inf(res.)=  4.77484718431e-12 ,L_inf(true error):  6.92262721634e-05\n",
      "  cycle:  15 , L_inf(res.)=  9.09494701773e-13 ,L_inf(true error):  6.92262721639e-05\n",
      "  cycle:  16 , L_inf(res.)=  9.09494701773e-13 ,L_inf(true error):  6.9226272164e-05\n",
      "  cycle:  17 , L_inf(res.)=  4.54747350886e-13 ,L_inf(true error):  6.9226272164e-05\n",
      "  cycle:  18 , L_inf(res.)=  4.54747350886e-13 ,L_inf(true error):  6.9226272164e-05\n",
      "L_inf (true error):  6.9226272164e-05\n"
     ]
    }
   ],
   "source": [
    "print('mgd2d.py solver:')\n",
    "print('NX:',NX,', NY:',NY,', tol:',tol,'levels: ',nlevels)\n",
    "for it in range(1,max_cycles+1):\n",
    "  u,res=V_cycle(NX,NY,nlevels,u,f)\n",
    "  rtol=np.max(np.max(np.abs(res)))\n",
    "  if(rtol<tol):\n",
    "    break\n",
    "  error=uann[1:NX+1,1:NY+1]-u[1:NX+1,1:NY+1]\n",
    "  print('  cycle: ',it,', L_inf(res.)= ',rtol,',L_inf(true error): ',np.max(np.max(np.abs(error))))\n",
    "\n",
    "error=uann[1:NX+1,1:NY+1]-u[1:NX+1,1:NY+1]\n",
    "print('L_inf (true error): ',np.max(np.max(np.abs(error))))\n"
   ]
  },
  {
   "cell_type": "markdown",
   "metadata": {},
   "source": [
    "**True error** is the difference of the approximation with the analytical solution. It is largely the discretization error. This what would be present when we solve the discrete equation with a direct/exact method like gaussian elimination. We see that true error stops reducing at the 4th cycle. The approximation is not getting any better after this point. So we can stop after 4 cycles. But, in general we dont know the true error. In practice we use the norm of the (relative) residual as a stopping criterion. As the cycles progress the floating point round-off error limit is reached and the residual also stops decreasing.\n",
    "\n",
    "This was the multigrid V cycle.\n",
    "\n",
    "## Full Multi-Grid \n",
    "We started with a zero initial guess for the V-cycle. Presumably, if we had a better initial guess we would get better results.  So we solve a coarse problem exactly and interpolate it onto the fine grid and use that as the initial guess for the V-cycle. The result of doing this recursively is the Full Multi-Grid(FMG) Algorithm. Unlike the V-cycle which was an iterative procedure, FMG is a direct solver. There is no successive improvement of the approximation. It straight away gives us an approximation that is within the discretization error.\n",
    "The FMG algorithm is given below."
   ]
  },
  {
   "cell_type": "code",
   "execution_count": 74,
   "metadata": {
    "collapsed": true
   },
   "outputs": [],
   "source": [
    "def FMG(nx,ny,num_levels,f,nv=1,level=1):\n",
    "\n",
    "  if(level==num_levels):#bottom solve\n",
    "    u=np.zeros([nx+2,ny+2])  \n",
    "    u,res=GSrelax(nx,ny,u,f,iters=50)\n",
    "    return u,res\n",
    "\n",
    "  #Step 1: Restrict the rhs to a coarse grid\n",
    "  f_c=restrict(nx//2,ny//2,f)\n",
    "\n",
    "  #Step 2: Solve the coarse grid problem using FMG\n",
    "  u_c,_=FMG(nx//2,ny//2,num_levels,f_c,nv,level+1)\n",
    "\n",
    "  #Step 3: Interpolate u_c to the fine grid\n",
    "  u=prolong(nx//2,ny//2,u_c)\n",
    "\n",
    "  #step 4: Execute 'nv' V-cycles\n",
    "  for _ in range(nv):\n",
    "    u,res=V_cycle(nx,ny,num_levels-level,u,f)\n",
    "  return u,res"
   ]
  },
  {
   "cell_type": "markdown",
   "metadata": {},
   "source": [
    "Lets call the FMG solver for the same problem"
   ]
  },
  {
   "cell_type": "code",
   "execution_count": 75,
   "metadata": {
    "collapsed": false
   },
   "outputs": [
    {
     "name": "stdout",
     "output_type": "stream",
     "text": [
      "mgd2d.py FMG solver:\n",
      "NX: 64 , NY: 64 , levels:  6\n",
      " FMG L_inf(res.)=  0.00318331528308\n",
      "L_inf (true error):  6.84872751535e-05\n"
     ]
    }
   ],
   "source": [
    "print('mgd2d.py FMG solver:')\n",
    "print('NX:',NX,', NY:',NY,', levels: ',nlevels)\n",
    "\n",
    "u,res=FMG(NX,NY,nlevels,f,nv=1) \n",
    "rtol=np.max(np.max(np.abs(res)))\n",
    "\n",
    "print(' FMG L_inf(res.)= ',rtol)\n",
    "error=uann[1:NX+1,1:NY+1]-u[1:NX+1,1:NY+1]\n",
    "print('L_inf (true error): ',np.max(np.max(np.abs(error))))"
   ]
  },
  {
   "cell_type": "markdown",
   "metadata": {},
   "source": [
    "Well... It works. The residual is large but the true error is within the discretization level. FMG is said to be scalable because the amount of work needed is linearly proportional to the the size of the problem. In big-O notation, FMG is $\\mathcal{O}(N)$. Where N is the number of unknowns. Exact methods (Gaussian Elimination, LU decomposition  ) are typically $\\mathcal{O}(N^3)$ "
   ]
  },
  {
   "cell_type": "code",
   "execution_count": null,
   "metadata": {
    "collapsed": true
   },
   "outputs": [],
   "source": []
  }
 ],
 "metadata": {
  "kernelspec": {
   "display_name": "Python 3",
   "language": "python",
   "name": "python3"
  },
  "language_info": {
   "codemirror_mode": {
    "name": "ipython",
    "version": 3
   },
   "file_extension": ".py",
   "mimetype": "text/x-python",
   "name": "python",
   "nbconvert_exporter": "python",
   "pygments_lexer": "ipython3",
   "version": "3.5.2"
  }
 },
 "nbformat": 4,
 "nbformat_minor": 0
}

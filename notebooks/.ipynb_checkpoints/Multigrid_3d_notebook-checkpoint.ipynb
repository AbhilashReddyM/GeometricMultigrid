{
 "cells": [
  {
   "cell_type": "markdown",
   "metadata": {},
   "source": [
    "## Multigrid 3D\n",
    "This notebook documents the 3D multigrid solver. There are two versions available in the repo. One is vectorized, resulting in a significant speed up. The vectorized one is documented here. It is fast enough to be usable for small problems on a desktop."
   ]
  },
  {
   "cell_type": "markdown",
   "metadata": {},
   "source": [
    "Smoother being used is Jacobi method. There is an optimization trick here. After entering a coarse grid, we always use a zero initial guess. So, for the first iteration, only the source term is needed in the rhs as everything else is zero. Typically since we might do only one pre relaxation sweep, we can calculate this directly and save some computation. In a V cycle, on the finest grid we have a non zero initial guess or inhomogenous BCs that result in 'u' not being completely zero. So we use an if condition making sure that it is a pre sweep, not in the finest level and do the minimal computation.\n",
    "\n",
    "Jacobi does not seem to be as good as two color GS for the FMG algorithm. FMG(1,V(1,1)) with Jacobi smoother is not converging sufficiently. FMG(2,V(1,3)) and FMG(3,V(1,2)) are needed. One possible vectorized version of red-black GS can be done using 8 steps. This is turned out to be much slower, presumable due to the memory access pattern. So Jacobi it is.\n",
    "\n",
    "All the actions are written in vector form."
   ]
  },
  {
   "cell_type": "code",
   "execution_count": 1,
   "metadata": {
    "collapsed": true
   },
   "outputs": [],
   "source": [
    "def Jacrelax(level,nx,ny,nz,u,f,iters=1,pre=False):\n",
    "  '''\n",
    "  Jacobi method smoothing\n",
    "  '''\n",
    "  dx=1.0/nx;    dy=1.0/ny;    dz=1.0/nz\n",
    "  Ax=1.0/dx**2; Ay=1.0/dy**2; Az=1.0/dz**2\n",
    "  Ap=1.0/(2.0*(1.0/dx**2+1.0/dy**2+1.0/dz**2))\n",
    "\n",
    "  #Dirichlet BC\n",
    "  u[ 0,:,:] = -u[ 1,:,:]\n",
    "  u[-1,:,:] = -u[-2,:,:]\n",
    "  u[: ,0,:] = -u[:, 1,:]\n",
    "  u[:,-1,:] = -u[:,-2,:]\n",
    "  u[:,:, 0] = -u[:,:, 1]\n",
    "  u[:,:,-1] = -u[:,:,-2]\n",
    "\n",
    "  #if it is a pre-sweep, u is fully zero (on the finest grid depends on BC, always true on coarse grids)\n",
    "  # we can save some calculation, if doing only one iteration, which is typically the case.\n",
    "  if(pre and level>1):\n",
    "    u[1:nx+1,1:ny+1,1:nz+1] = -Ap*f[1:nx+1,1:ny+1,1:nz+1]\n",
    "    #Dirichlet BC\n",
    "    u[ 0,:,:] = -u[ 1,:,:]\n",
    "    u[-1,:,:] = -u[-2,:,:]\n",
    "    u[: ,0,:] = -u[:, 1,:]\n",
    "    u[:,-1,:] = -u[:,-2,:]\n",
    "    u[:,:, 0] = -u[:,:, 1]\n",
    "    u[:,:,-1] = -u[:,:,-2]\n",
    "    iters=iters-1\n",
    "    \n",
    "  for it in range(iters):\n",
    "    u[1:nx+1,1:ny+1,1:nz+1] = Ap*(Ax*(u[2:nx+2,1:ny+1,1:nz+1] + u[0:nx,1:ny+1,1:nz+1])\n",
    "                                + Ay*(u[1:nx+1,2:ny+2,1:nz+1] + u[1:nx+1,0:ny,1:nz+1])\n",
    "                                + Az*(u[1:nx+1,1:ny+1,2:nz+2] + u[1:nx+1,1:ny+1,0:nz])\n",
    "                                - f[1:nx+1,1:ny+1,1:nz+1])\n",
    "    #Dirichlet BC\n",
    "    u[ 0,:,:] = -u[ 1,:,:]\n",
    "    u[-1,:,:] = -u[-2,:,:]\n",
    "    u[: ,0,:] = -u[:, 1,:]\n",
    "    u[:,-1,:] = -u[:,-2,:]\n",
    "    u[:,:, 0] = -u[:,:, 1]\n",
    "    u[:,:,-1] = -u[:,:,-2]\n",
    "\n",
    "  #if residual not needed\n",
    "  if(not pre):\n",
    "    return u,None\n",
    "  \n",
    "  res=np.zeros([nx+2,ny+2,nz+2])\n",
    "  res[1:nx+1,1:ny+1,1:nz+1]=f[1:nx+1,1:ny+1,1:nz+1]-(Ax*(u[2:nx+2,1:ny+1,1:nz+1] + u[0:nx,1:ny+1,1:nz+1])\n",
    "                                                   + Ay*(u[1:nx+1,2:ny+2,1:nz+1] + u[1:nx+1,0:ny,1:nz+1])\n",
    "                                                   + Az*(u[1:nx+1,1:ny+1,2:nz+2] + u[1:nx+1,1:ny+1,0:nz])\n",
    "                                                   - 2.0*(Ax+Ay+Az)*u[1:nx+1,1:ny+1,1:nx+1])\n",
    "  return u,res"
   ]
  },
  {
   "cell_type": "markdown",
   "metadata": {},
   "source": [
    "## Restriction and Prolongation\n",
    "\n",
    "Straight forward extension from the 2d case for both of these. Trilinear interpolation weights for the prolonation step."
   ]
  },
  {
   "cell_type": "code",
   "execution_count": 2,
   "metadata": {
    "collapsed": true
   },
   "outputs": [],
   "source": [
    "def restrict(nx,ny,nz,v):\n",
    "  v_c=np.zeros([nx+2,ny+2,nz+2])\n",
    " \n",
    "  v_c[1:nx+1,1:ny+1,1:nz+1]=0.125*(v[1:2*nx:2,1:2*ny:2,1:2*nz:2  ]+v[1:2*nx:2,2:2*ny+1:2,1:2*nz:2  ]+v[2:2*nx+1:2,1:2*ny:2,1:2*nz:2  ]+v[2:2*nx+1:2,2:2*ny+1:2,1:2*nz:2  ]\n",
    "                                 + v[1:2*nx:2,1:2*ny:2,2:2*nz+1:2]+v[1:2*nx:2,2:2*ny+1:2,2:2*nz+1:2]+v[2:2*nx+1:2,1:2*ny:2,2:2*nz+1:2]+v[2:2*nx+1:2,2:2*ny+1:2,2:2*nz+1:2])\n",
    "  return v_c\n",
    "\n",
    "def prolong(nx,ny,nz,v):\n",
    "  v_f=np.zeros([2*nx+2,2*ny+2,2*nz+2])\n",
    "\n",
    "  a=27.0/64;  b= 9.0/64;  c= 3.0/64;  d= 1.0/64\n",
    "\n",
    "  v_f[1:2*nx:2  ,1:2*ny:2  ,1:2*nz:2  ] = a*v[1:nx+1,1:ny+1,1:nz+1] + b*(v[0:nx  ,1:ny+1,1:nz+1] + v[1:nx+1,0:ny  ,1:nz+1] + v[1:nx+1,1:ny+1,0:nz  ]) + c*(v[0:nx  ,0:ny  ,1:nz+1] + v[0:nx  ,1:ny+1,0:nz  ] + v[1:nx+1,0:ny  ,0:nz  ]) + d*v[0:nx  ,0:ny  ,0:nz  ]\n",
    "  v_f[2:2*nx+1:2,1:2*ny:2  ,1:2*nz:2  ] = a*v[1:nx+1,1:ny+1,1:nz+1] + b*(v[2:nx+2,1:ny+1,1:nz+1] + v[1:nx+1,0:ny  ,1:nz+1] + v[1:nx+1,1:ny+1,0:nz  ]) + c*(v[2:nx+2,0:ny  ,1:nz+1] + v[2:nx+2,1:ny+1,0:nz  ] + v[1:nx+1,0:ny  ,0:nz  ]) + d*v[2:nx+2,0:ny  ,0:nz  ]\n",
    "  v_f[1:2*nx:2  ,2:2*ny+1:2,1:2*nz:2  ] = a*v[1:nx+1,1:ny+1,1:nz+1] + b*(v[0:nx  ,1:ny+1,1:nz+1] + v[1:nx+1,2:ny+2,1:nz+1] + v[1:nx+1,1:ny+1,0:nz  ]) + c*(v[0:nx  ,2:ny+2,1:nz+1] + v[0:nx  ,1:ny+1,0:nz  ] + v[1:nx+1,2:ny+2,0:nz  ]) + d*v[0:nx  ,2:ny+2,0:nz  ]\n",
    "  v_f[2:2*nx+1:2,2:2*ny+1:2,1:2*nz:2  ] = a*v[1:nx+1,1:ny+1,1:nz+1] + b*(v[2:nx+2,1:ny+1,1:nz+1] + v[1:nx+1,2:ny+2,1:nz+1] + v[1:nx+1,1:ny+1,0:nz  ]) + c*(v[2:nx+2,2:ny+2,1:nz+1] + v[2:nx+2,1:ny+1,0:nz  ] + v[1:nx+1,2:ny+2,0:nz  ]) + d*v[2:nx+2,2:ny+2,0:nz  ]\n",
    "  v_f[1:2*nx:2  ,1:2*ny:2  ,2:2*nz+1:2] = a*v[1:nx+1,1:ny+1,1:nz+1] + b*(v[0:nx  ,1:ny+1,1:nz+1] + v[1:nx+1,0:ny  ,1:nz+1] + v[1:nx+1,1:ny+1,2:nz+2]) + c*(v[0:nx  ,0:ny  ,1:nz+1] + v[0:nx  ,1:ny+1,2:nz+2] + v[1:nx+1,0:ny  ,2:nz+2]) + d*v[0:nx  ,0:ny  ,2:nz+2]\n",
    "  v_f[2:2*nx+1:2,1:2*ny:2  ,2:2*nz+1:2] = a*v[1:nx+1,1:ny+1,1:nz+1] + b*(v[2:nx+2,1:ny+1,1:nz+1] + v[1:nx+1,0:ny  ,1:nz+1] + v[1:nx+1,1:ny+1,2:nz+2]) + c*(v[2:nx+2,0:ny  ,1:nz+1] + v[2:nx+2,1:ny+1,2:nz+2] + v[1:nx+1,0:ny  ,2:nz+2]) + d*v[2:nx+2,0:ny  ,2:nz+2]\n",
    "  v_f[1:2*nx:2  ,2:2*ny+1:2,2:2*nz+1:2] = a*v[1:nx+1,1:ny+1,1:nz+1] + b*(v[0:nx  ,1:ny+1,1:nz+1] + v[1:nx+1,2:ny+2,1:nz+1] + v[1:nx+1,1:ny+1,2:nz+2]) + c*(v[0:nx  ,2:ny+2,1:nz+1] + v[0:nx  ,1:ny+1,2:nz+2] + v[1:nx+1,2:ny+2,2:nz+2]) + d*v[0:nx  ,2:ny+2,2:nz+2]\n",
    "  v_f[2:2*nx+1:2,2:2*ny+1:2,2:2*nz+1:2] = a*v[1:nx+1,1:ny+1,1:nz+1] + b*(v[2:nx+2,1:ny+1,1:nz+1] + v[1:nx+1,2:ny+2,1:nz+1] + v[1:nx+1,1:ny+1,2:nz+2]) + c*(v[2:nx+2,2:ny+2,1:nz+1] + v[2:nx+2,1:ny+1,2:nz+2] + v[1:nx+1,2:ny+2,2:nz+2]) + d*v[2:nx+2,2:ny+2,2:nz+2]\n",
    "  return v_f"
   ]
  },
  {
   "cell_type": "markdown",
   "metadata": {},
   "source": [
    "## V cycle and FMG\n",
    "This is pretty much same as that in the 2D case. "
   ]
  },
  {
   "cell_type": "code",
   "execution_count": 3,
   "metadata": {
    "collapsed": true
   },
   "outputs": [],
   "source": [
    "def V_cycle(nx,ny,nz,num_levels,u,f,level=1):\n",
    "  if(level==num_levels):#bottom solve\n",
    "    u,res=Jacrelax(level,nx,ny,nz,u,f,iters=1)\n",
    "    return u,res\n",
    "\n",
    "  #Step 1: Relax Au=f on this grid\n",
    "  u,res=Jacrelax(level,nx,ny,nz,u,f,1,pre=True)\n",
    "\n",
    "  #Step 2: Restrict residual to coarse grid\n",
    "  res_c=restrict(nx//2,ny//2,nz//2,res)\n",
    "\n",
    "  #Step 3:Solve A e_c=res_c on the coarse grid. (Recursively)\n",
    "  e_c=np.zeros_like(res_c)\n",
    "  e_c,res_c=V_cycle(nx//2,ny//2,nz//2,num_levels,e_c,res_c,level+1)\n",
    "\n",
    "  #Step 4: Interpolate(prolong) e_c to fine grid and add to u\n",
    "  u+=prolong(nx//2,ny//2,nz//2,e_c)\n",
    "  \n",
    "  #Step 5: Relax Au=f on this grid\n",
    "  u,res=Jacrelax(level,nx,ny,nz,u,f,1)\n",
    "  \n",
    "  return u,res\n",
    "\n",
    "\n",
    "def FMG(nx,ny,nz,num_levels,f,nv=1,level=1):\n",
    "\n",
    "  if(level==num_levels):#bottom solve\n",
    "    u=np.zeros([nx+2,ny+2,nz+2])  \n",
    "    u,res=Jacrelax(level,nx,ny,nz,u,f,iters=1)\n",
    "    return u,res\n",
    "\n",
    "  #Step 1: Restrict the rhs to a coarse grid\n",
    "  f_c=restrict(nx//2,ny//2,nz//2,f)\n",
    "\n",
    "  #Step 2: Solve the coarse grid problem using FMG\n",
    "  u_c,_=FMG(nx//2,ny//2,nz//2,num_levels,f_c,nv,level+1)\n",
    "\n",
    "  #Step 3: Interpolate u_c to the fine grid\n",
    "  u=prolong(nx//2,ny//2,nz//2,u_c)\n",
    "\n",
    "  #step 4: Execute 'nv' V-cycles\n",
    "  for _ in range(nv):\n",
    "    u,res=V_cycle(nx,ny,nz,num_levels-level,u,f)\n",
    "  return u,res\n"
   ]
  },
  {
   "cell_type": "code",
   "execution_count": null,
   "metadata": {
    "collapsed": true
   },
   "outputs": [],
   "source": []
  },
  {
   "cell_type": "code",
   "execution_count": 4,
   "metadata": {
    "scrolled": true
   },
   "outputs": [
    {
     "name": "stdout",
     "output_type": "stream",
     "text": [
      "mgd3d.py FMG solver:\n",
      "NX: 128 , NY: 128 NZ: 128 , tol: 1e-07 levels:  8\n",
      "  Elapsed time:  1.0792038440704346  seconds\n",
      "  L_inf(true error):  0.000731015254836\n"
     ]
    }
   ],
   "source": [
    "import numpy as np\n",
    "import time\n",
    "#analytical solution\n",
    "def Uann(x,y,z,n):\n",
    "  return np.sin(2*n*np.pi*x)*np.sin(2*n*np.pi*y)*np.sin(2*n*np.pi*z)\n",
    "\n",
    "#RHS corresponding to above\n",
    "def source(x,y,z,n):\n",
    "  return -12 * (np.pi)**2 * n**2 * np.sin(2*n*np.pi*x) * np.sin(2*n*np.pi*y) * np.sin(2*n*np.pi*z)\n",
    "\n",
    "#input\n",
    "max_cycles = 20           #maximum number of V cycles\n",
    "nlevels    = 8            #total number of grid levels. 1 means no multigrid, 2 means one coarse grid. etc \n",
    "NX         = 1*2**(nlevels-1) #Nx and Ny are given as function of grid levels\n",
    "NY         = 1*2**(nlevels-1) \n",
    "NZ         = 1*2**(nlevels-1) \n",
    "tol        = 1e-7\n",
    "\n",
    "#the grid has one layer of ghost cells to help apply the boundary conditions\n",
    "uann=np.zeros([NX+2,NY+2,NZ+2])#analytical solution\n",
    "u   =np.zeros([NX+2,NY+2,NZ+2])#approximation\n",
    "f   =np.zeros([NX+2,NY+2,NZ+2])#RHS\n",
    "\n",
    "#calcualte the RHS and exact solution\n",
    "DX=1.0/NX\n",
    "DY=1.0/NY\n",
    "DZ=1.0/NZ\n",
    "\n",
    "xc=np.linspace(0.5*DX,1-0.5*DX,NX)\n",
    "yc=np.linspace(0.5*DY,1-0.5*DY,NY)\n",
    "zc=np.linspace(0.5*DZ,1-0.5*DZ,NZ)\n",
    "\n",
    "XX,YY,ZZ=np.meshgrid(xc,yc,zc)\n",
    "\n",
    "uann[1:NX+1,1:NY+1,1:NZ+1] = Uann  (XX,YY,ZZ,1)\n",
    "f   [1:NX+1,1:NY+1,1:NZ+1] = source(XX,YY,ZZ,1)\n",
    "\n",
    "print('mgd3d.py FMG solver:')\n",
    "print('NX:',NX,', NY:',NY,'NZ:',NZ,', tol:',tol,'levels: ',nlevels)\n",
    "\n",
    "#start solving\n",
    "tb=time.time()\n",
    "\n",
    "u,res=FMG(NX,NY,NZ,nlevels,f,2)\n",
    "print('  Elapsed time: ',time.time()-tb,' seconds')\n",
    "error=uann[1:NX+1,1:NY+1,1:NZ+1]-u[1:NX+1,1:NY+1,1:NZ+1]\n",
    "en=np.max(np.max(np.abs(error)))\n",
    "print('  L_inf(true error): ',en)\n"
   ]
  },
  {
   "cell_type": "markdown",
   "metadata": {},
   "source": [
    "128^3 = 2 Million unknowns and solved in one second on my desktop (2010 intel i7)!"
   ]
  },
  {
   "cell_type": "code",
   "execution_count": null,
   "metadata": {
    "collapsed": true
   },
   "outputs": [],
   "source": []
  },
  {
   "cell_type": "code",
   "execution_count": null,
   "metadata": {
    "collapsed": true
   },
   "outputs": [],
   "source": []
  },
  {
   "cell_type": "code",
   "execution_count": null,
   "metadata": {
    "collapsed": true
   },
   "outputs": [],
   "source": []
  }
 ],
 "metadata": {
  "kernelspec": {
   "display_name": "Python 3",
   "language": "python",
   "name": "python3"
  },
  "language_info": {
   "codemirror_mode": {
    "name": "ipython",
    "version": 3
   },
   "file_extension": ".py",
   "mimetype": "text/x-python",
   "name": "python",
   "nbconvert_exporter": "python",
   "pygments_lexer": "ipython3",
   "version": "3.5.3"
  }
 },
 "nbformat": 4,
 "nbformat_minor": 2
}

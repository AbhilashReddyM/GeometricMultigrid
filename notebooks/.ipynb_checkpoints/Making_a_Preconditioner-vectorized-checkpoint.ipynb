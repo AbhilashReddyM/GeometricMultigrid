{
 "cells": [
  {
   "cell_type": "markdown",
   "metadata": {},
   "source": [
    "*This is functionally similar to the the other notebook. All the operations here have been vectorized. This results in much much faster code, but is also much unreadable. The vectorization also necessitated the replacement of the Gauss-Seidel smoother with under-relaxed Jacobi. That change has had some effect since GS is \"twice as better\" as Jacobi.*\n",
    "\n",
    "# The Making of a Preconditioner ---Vectorized Version\n",
    "This is a demonstration of a multigrid preconditioned krylov solver in python3. The code and more examples are present on github here. The problem solved is a Poisson equation on a rectangular domain with homogenous dirichlet boundary conditions.  Finite difference with cell-centered discretization is used to get a second order accurate solution, that is further improved to 4th order using deferred correction.\n",
    "\n",
    "The first step is a multigrid algorithm. This is the simplest 2D geometric multigrid solver. \n",
    "\n",
    "## 1. Multigrid algorithm\n",
    "We need some terminology before going further.\n",
    "- Approximation: \n",
    "- Residual:\n",
    "- Exact solution (of the discrete problem)\n",
    "- Correction\n",
    "\n",
    "This is a geometric multigrid algorithm, where a series of nested grids are used. There are four parts to a multigrid algorithm\n",
    "- Smoothing Operator (a.k.a Relaxation)\n",
    "- Restriction Operator\n",
    "- Interpolation Operator (a.k.a Prolongation Operator)\n",
    "- Bottom solver\n",
    "\n",
    "We will define each of these in sequence. These operators act of different quantities that are stored at the cell center. We will get to exactly what later on. To begin import numpy."
   ]
  },
  {
   "cell_type": "code",
   "execution_count": 1,
   "metadata": {},
   "outputs": [],
   "source": [
    "import numpy as np"
   ]
  },
  {
   "cell_type": "markdown",
   "metadata": {},
   "source": [
    "### 1.1 Smoothing operator\n",
    "This can be a certain number of Jacobi or a Gauss-Seidel iterations. Below is defined smoother that does under-relaxed Jacobi sweeps and returns the result  along with the residual."
   ]
  },
  {
   "cell_type": "code",
   "execution_count": 2,
   "metadata": {},
   "outputs": [],
   "source": [
    "def Jacrelax(nx,ny,u,f,iters=1):\n",
    "  '''\n",
    "  under-relaxed Jacobi iteration\n",
    "  '''\n",
    "  dx=1.0/nx; dy=1.0/ny\n",
    "  Ax=1.0/dx**2; Ay=1.0/dy**2\n",
    "  Ap=1.0/(2.0*(Ax+Ay))\n",
    "\n",
    "  #Dirichlet BC\n",
    "  u[ 0,:] = -u[ 1,:]\n",
    "  u[-1,:] = -u[-2,:]\n",
    "  u[:, 0] = -u[:, 1]\n",
    "  u[:,-1] = -u[:,-2]\n",
    "\n",
    "  for it in range(iters):\n",
    "    u[1:nx+1,1:ny+1] = 0.8*Ap*(Ax*(u[2:nx+2,1:ny+1] + u[0:nx,1:ny+1])\n",
    "                             + Ay*(u[1:nx+1,2:ny+2] + u[1:nx+1,0:ny])\n",
    "                             - f[1:nx+1,1:ny+1])+0.2*u[1:nx+1,1:ny+1]\n",
    "    #Dirichlet BC\n",
    "    u[ 0,:] = -u[ 1,:]\n",
    "    u[-1,:] = -u[-2,:]\n",
    "    u[:, 0] = -u[:, 1]\n",
    "    u[:,-1] = -u[:,-2]\n",
    "\n",
    "  res=np.zeros([nx+2,ny+2])\n",
    "  res[1:nx+1,1:ny+1]=f[1:nx+1,1:ny+1]-(( Ax*(u[2:nx+2,1:ny+1]+u[0:nx,1:ny+1])\n",
    "                                       + Ay*(u[1:nx+1,2:ny+2]+u[1:nx+1,0:ny])\n",
    "                                       - 2.0*(Ax+Ay)*u[1:nx+1,1:ny+1]))\n",
    "  return u,res"
   ]
  },
  {
   "cell_type": "markdown",
   "metadata": {},
   "source": [
    "### 1.2 Interpolation Operator\n",
    "This operator takes values on a coarse grid and transfers them onto a fine grid. It is also called prolongation. The function below uses bilinear interpolation for this purpose. 'v' is on a coarse grid and we want to interpolate it on a fine grid and store it in v_f. "
   ]
  },
  {
   "cell_type": "code",
   "execution_count": 3,
   "metadata": {},
   "outputs": [],
   "source": [
    "def prolong(nx,ny,v):\n",
    "  '''\n",
    "  interpolate 'v' to the fine grid\n",
    "  '''\n",
    "  v_f=np.zeros([2*nx+2,2*ny+2])\n",
    "  v_f[1:2*nx:2  ,1:2*ny:2  ] = 0.5625*v[1:nx+1,1:ny+1]+0.1875*(v[0:nx  ,1:ny+1]+v[1:nx+1,0:ny]  )+0.0625*v[0:nx  ,0:ny  ]\n",
    "  v_f[2:2*nx+1:2,1:2*ny:2  ] = 0.5625*v[1:nx+1,1:ny+1]+0.1875*(v[2:nx+2,1:ny+1]+v[1:nx+1,0:ny]  )+0.0625*v[2:nx+2,0:ny  ]\n",
    "  v_f[1:2*nx:2  ,2:2*ny+1:2] = 0.5625*v[1:nx+1,1:ny+1]+0.1875*(v[0:nx  ,1:ny+1]+v[1:nx+1,2:ny+2])+0.0625*v[0:nx  ,2:ny+2]\n",
    "  v_f[2:2*nx+1:2,2:2*ny+1:2] = 0.5625*v[1:nx+1,1:ny+1]+0.1875*(v[2:nx+2,1:ny+1]+v[1:nx+1,2:ny+2])+0.0625*v[2:nx+2,2:ny+2]\n",
    "  return v_f"
   ]
  },
  {
   "cell_type": "markdown",
   "metadata": {},
   "source": [
    "### 1.3 Restriction\n",
    "This is exactly the opposite of the interpolation. It takes values from the find grid and transfers them onto the coarse grid. It is kind of an averaging process. *This is fundamentally different from interpolation*. Each coarse grid point is surrounded by four fine grid points. So quite simply we take the value of the coarse point to be the average of 4 fine points. Here 'v' is the fine grid quantity and 'v_c' is the coarse grid quantity "
   ]
  },
  {
   "cell_type": "code",
   "execution_count": 4,
   "metadata": {},
   "outputs": [],
   "source": [
    "def restrict(nx,ny,v):\n",
    "  '''\n",
    "  restrict 'v' to the coarser grid\n",
    "  '''\n",
    "  v_c=np.zeros([nx+2,ny+2])\n",
    "  v_c[1:nx+1,1:ny+1]=0.25*(v[1:2*nx:2,1:2*ny:2]+v[1:2*nx:2,2:2*ny+1:2]+v[2:2*nx+1:2,1:2*ny:2]+v[2:2*nx+1:2,2:2*ny+1:2])\n",
    "  return v_c"
   ]
  },
  {
   "cell_type": "markdown",
   "metadata": {},
   "source": [
    "### 1.4 Bottom Solver\n",
    "Note that we have looped over the coarse grid in both the cases above. It is easier to access the variables this way. The last part is the Bottom Solver. This must be something that gives us the exact/converged solution to what ever we feed it. What we feed to the bottom solver is the problem at the coarsest level. This has generally has very few points (e.g 2x2=4 in our case) and can be solved exactly  by the smoother itself with few iterations. That is what we do here but, any other direct method can also be used. 50 Iterations are used here. If we coarsify to just one point, then just one iteration will solve it exactly.\n",
    "### 1.5 V-cycle\n",
    "Now that we have all the parts, we are ready to build our multigrid algorithm. First we will look at a V-cycle. It is self explanatory. It is a recursive function ,i.e., it calls itself. It takes as input an initial guess 'u', the rhs 'f', the number of multigrid levels 'num_levels' among other things. At each level the V cycle calls another V-cycle. At the lowest level the solving is exact."
   ]
  },
  {
   "cell_type": "code",
   "execution_count": 5,
   "metadata": {},
   "outputs": [],
   "source": [
    "def V_cycle(nx,ny,num_levels,u,f,level=1):\n",
    "\n",
    "  if(level==num_levels):#bottom solve\n",
    "    u,res=Jacrelax(nx,ny,u,f,iters=50)\n",
    "    return u,res\n",
    "\n",
    "  #Step 1: Relax Au=f on this grid\n",
    "  u,res=Jacrelax(nx,ny,u,f,iters=1)\n",
    "\n",
    "  #Step 2: Restrict residual to coarse grid\n",
    "  res_c=restrict(nx//2,ny//2,res)\n",
    "\n",
    "  #Step 3:Solve A e_c=res_c on the coarse grid. (Recursively)\n",
    "  e_c=np.zeros_like(res_c)\n",
    "  e_c,res_c=V_cycle(nx//2,ny//2,num_levels,e_c,res_c,level+1)\n",
    "\n",
    "  #Step 4: Interpolate(prolong) e_c to fine grid and add to u\n",
    "  u+=prolong(nx//2,ny//2,e_c)\n",
    "  \n",
    "  #Step 5: Relax Au=f on this grid\n",
    "  u,res=Jacrelax(nx,ny,u,f,iters=1)\n",
    "  return u,res"
   ]
  },
  {
   "cell_type": "markdown",
   "metadata": {},
   "source": [
    "Thats it! Now we can see it in action. We can use a problem with a known solution to test our code. The following functions set up a rhs for a problem with homogenous dirichlet BC on the unit square."
   ]
  },
  {
   "cell_type": "code",
   "execution_count": 6,
   "metadata": {},
   "outputs": [],
   "source": [
    "#analytical solution\n",
    "def Uann(x,y):\n",
    "   return (x**3-x)*(y**3-y)\n",
    "#RHS corresponding to above\n",
    "def source(x,y):\n",
    "  return 6*x*y*(x**2+ y**2 - 2)"
   ]
  },
  {
   "cell_type": "markdown",
   "metadata": {},
   "source": [
    "Let us set up the problem, discretization and solver details. The number of divisions along each dimension is given as a power of two function of the number of levels. In principle this is not required, but having it makes the inter-grid transfers easy.\n",
    "The coarsest problem is going to have a 2-by-2 grid."
   ]
  },
  {
   "cell_type": "code",
   "execution_count": 7,
   "metadata": {},
   "outputs": [],
   "source": [
    "#input\n",
    "max_cycles = 30\n",
    "nlevels    = 6  \n",
    "NX         = 2*2**(nlevels-1)\n",
    "NY         = 2*2**(nlevels-1)\n",
    "tol        = 1e-12      "
   ]
  },
  {
   "cell_type": "code",
   "execution_count": 8,
   "metadata": {},
   "outputs": [],
   "source": [
    "#the grid has one layer of ghost cellss\n",
    "uann=np.zeros([NX+2,NY+2])#analytical solution\n",
    "u   =np.zeros([NX+2,NY+2])#approximation\n",
    "f   =np.zeros([NX+2,NY+2])#RHS\n",
    "\n",
    "#calcualte the RHS and exact solution\n",
    "DX=1.0/NX\n",
    "DY=1.0/NY\n",
    "\n",
    "xc=np.linspace(0.5*DX,1-0.5*DX,NX)\n",
    "yc=np.linspace(0.5*DY,1-0.5*DY,NY)\n",
    "XX,YY=np.meshgrid(xc,yc,indexing='ij')\n",
    "\n",
    "uann[1:NX+1,1:NY+1]=Uann(XX,YY)\n",
    "f[1:NX+1,1:NY+1]   =source(XX,YY)"
   ]
  },
  {
   "cell_type": "markdown",
   "metadata": {},
   "source": [
    "Now we can call the solver"
   ]
  },
  {
   "cell_type": "code",
   "execution_count": 9,
   "metadata": {},
   "outputs": [
    {
     "name": "stdout",
     "output_type": "stream",
     "text": [
      "mgd2d.py solver:\n",
      "NX: 64 , NY: 64 , tol: 1e-15 levels:  6\n",
      "  cycle:  1 , L_inf(res.)=  0.891977476345 ,L_inf(true error):  0.0411816115789\n",
      "  cycle:  2 , L_inf(res.)=  0.257779410083 ,L_inf(true error):  0.0116506189761\n",
      "  cycle:  3 , L_inf(res.)=  0.0735673054651 ,L_inf(true error):  0.00330803624272\n",
      "  cycle:  4 , L_inf(res.)=  0.0208583793969 ,L_inf(true error):  0.000930219571437\n",
      "  cycle:  5 , L_inf(res.)=  0.00588946434527 ,L_inf(true error):  0.000247798905275\n",
      "  cycle:  6 , L_inf(res.)=  0.00171344338378 ,L_inf(true error):  6.7168536506e-05\n",
      "  cycle:  7 , L_inf(res.)=  0.000523285391864 ,L_inf(true error):  6.86431869779e-05\n",
      "  cycle:  8 , L_inf(res.)=  0.000161594333349 ,L_inf(true error):  6.90600429546e-05\n",
      "  cycle:  9 , L_inf(res.)=  5.09588276145e-05 ,L_inf(true error):  6.91786495929e-05\n",
      "  cycle:  10 , L_inf(res.)=  1.62977007676e-05 ,L_inf(true error):  6.92125721805e-05\n",
      "  cycle:  11 , L_inf(res.)=  5.2736240832e-06 ,L_inf(true error):  6.92223164925e-05\n",
      "  cycle:  12 , L_inf(res.)=  1.72635327544e-06 ,L_inf(true error):  6.92251261566e-05\n",
      "  cycle:  13 , L_inf(res.)=  5.71547388972e-07 ,L_inf(true error):  6.92259390797e-05\n",
      "  cycle:  14 , L_inf(res.)=  1.91270373762e-07 ,L_inf(true error):  6.92261750469e-05\n",
      "  cycle:  15 , L_inf(res.)=  6.46573425911e-08 ,L_inf(true error):  6.92262437573e-05\n",
      "  cycle:  16 , L_inf(res.)=  2.20597939915e-08 ,L_inf(true error):  6.92262638279e-05\n",
      "  cycle:  17 , L_inf(res.)=  7.58882379159e-09 ,L_inf(true error):  6.92262697094e-05\n",
      "  cycle:  18 , L_inf(res.)=  2.62980393018e-09 ,L_inf(true error):  6.92262714386e-05\n",
      "  cycle:  19 , L_inf(res.)=  9.17680154089e-10 ,L_inf(true error):  6.92262719488e-05\n",
      "  cycle:  20 , L_inf(res.)=  3.21961124428e-10 ,L_inf(true error):  6.92262720999e-05\n",
      "  cycle:  21 , L_inf(res.)=  1.13232090371e-10 ,L_inf(true error):  6.92262721448e-05\n",
      "  cycle:  22 , L_inf(res.)=  4.0017766878e-11 ,L_inf(true error):  6.92262721582e-05\n",
      "  cycle:  23 , L_inf(res.)=  1.40971678775e-11 ,L_inf(true error):  6.92262721622e-05\n",
      "  cycle:  24 , L_inf(res.)=  5.45696821064e-12 ,L_inf(true error):  6.92262721634e-05\n",
      "  cycle:  25 , L_inf(res.)=  1.81898940355e-12 ,L_inf(true error):  6.92262721638e-05\n",
      "  cycle:  26 , L_inf(res.)=  9.09494701773e-13 ,L_inf(true error):  6.92262721639e-05\n",
      "  cycle:  27 , L_inf(res.)=  9.09494701773e-13 ,L_inf(true error):  6.9226272164e-05\n",
      "  cycle:  28 , L_inf(res.)=  9.09494701773e-13 ,L_inf(true error):  6.9226272164e-05\n",
      "  cycle:  29 , L_inf(res.)=  9.09494701773e-13 ,L_inf(true error):  6.9226272164e-05\n",
      "  cycle:  30 , L_inf(res.)=  9.09494701773e-13 ,L_inf(true error):  6.9226272164e-05\n",
      "L_inf (true error):  6.9226272164e-05\n"
     ]
    }
   ],
   "source": [
    "print('mgd2d.py solver:')\n",
    "print('NX:',NX,', NY:',NY,', tol:',tol,'levels: ',nlevels)\n",
    "for it in range(1,max_cycles+1):\n",
    "  u,res=V_cycle(NX,NY,nlevels,u,f)\n",
    "  rtol=np.max(np.max(np.abs(res)))\n",
    "  if(rtol<tol):\n",
    "    break\n",
    "  error=uann[1:NX+1,1:NY+1]-u[1:NX+1,1:NY+1]\n",
    "  print('  cycle: ',it,', L_inf(res.)= ',rtol,',L_inf(true error): ',np.max(np.max(np.abs(error))))\n",
    "\n",
    "error=uann[1:NX+1,1:NY+1]-u[1:NX+1,1:NY+1]\n",
    "print('L_inf (true error): ',np.max(np.max(np.abs(error))))\n"
   ]
  },
  {
   "cell_type": "markdown",
   "metadata": {},
   "source": [
    "**True error** is the difference of the approximation with the analytical solution. It is largely the discretization error. This what would be present when we solve the discrete equation with a direct/exact method like gaussian elimination. We see that true error stops reducing at the 5th cycle. The approximation is not getting any better after this point. So we can stop after 5 cycles. But, in general we dont know the true error. In practice we use the norm of the (relative) residual as a stopping criterion. As the cycles progress the floating point round-off error limit is reached and the residual also stops decreasing.\n",
    "\n",
    "This was the multigrid V cycle. We can use this as preconditioner to a Krylov solver. But before we get to that let's complete the multigrid introduction by looking at the Full Multi-Grid algorithm. You can skip this section safely.\n",
    "\n",
    "### 1.6 Full Multi-Grid \n",
    "We started with a zero initial guess for the V-cycle. Presumably, if we had a better initial guess we would get better results.  So we solve a coarse problem exactly and interpolate it onto the fine grid and use that as the initial guess for the V-cycle. The result of doing this recursively is the Full Multi-Grid(FMG) Algorithm. Unlike the V-cycle which was an iterative procedure, FMG is a direct solver. There is no successive improvement of the approximation. It straight away gives us an approximation that is within the discretization error. The FMG algorithm is given below."
   ]
  },
  {
   "cell_type": "code",
   "execution_count": 10,
   "metadata": {},
   "outputs": [],
   "source": [
    "def FMG(nx,ny,num_levels,f,nv=1,level=1):\n",
    "\n",
    "  if(level==num_levels):#bottom solve\n",
    "    u=np.zeros([nx+2,ny+2])  \n",
    "    u,res=Jacrelax(nx,ny,u,f,iters=50)\n",
    "    return u,res\n",
    "\n",
    "  #Step 1: Restrict the rhs to a coarse grid\n",
    "  f_c=restrict(nx//2,ny//2,f)\n",
    "\n",
    "  #Step 2: Solve the coarse grid problem using FMG\n",
    "  u_c,_=FMG(nx//2,ny//2,num_levels,f_c,nv,level+1)\n",
    "\n",
    "  #Step 3: Interpolate u_c to the fine grid\n",
    "  u=prolong(nx//2,ny//2,u_c)\n",
    "\n",
    "  #step 4: Execute 'nv' V-cycles\n",
    "  for _ in range(nv):\n",
    "    u,res=V_cycle(nx,ny,num_levels-level,u,f)\n",
    "  return u,res"
   ]
  },
  {
   "cell_type": "markdown",
   "metadata": {},
   "source": [
    "Lets call the FMG solver for the same problem"
   ]
  },
  {
   "cell_type": "code",
   "execution_count": 11,
   "metadata": {},
   "outputs": [
    {
     "name": "stdout",
     "output_type": "stream",
     "text": [
      "mgd2d.py FMG solver:\n",
      "NX: 64 , NY: 64 , levels:  6\n",
      " FMG L_inf(res.)=  0.00659679691546\n",
      "L_inf (true error):  6.66429014552e-05\n"
     ]
    }
   ],
   "source": [
    "print('mgd2d.py FMG solver:')\n",
    "print('NX:',NX,', NY:',NY,', levels: ',nlevels)\n",
    "\n",
    "u,res=FMG(NX,NY,nlevels,f,nv=1) \n",
    "rtol=np.max(np.max(np.abs(res)))\n",
    "\n",
    "print(' FMG L_inf(res.)= ',rtol)\n",
    "error=uann[1:NX+1,1:NY+1]-u[1:NX+1,1:NY+1]\n",
    "print('L_inf (true error): ',np.max(np.max(np.abs(error))))"
   ]
  },
  {
   "cell_type": "markdown",
   "metadata": {},
   "source": [
    "It works wonderfully. The residual is large but the true error is within the discretization level. FMG is said to be scalable because the amount of work needed is linearly proportional to the the size of the problem. In big-O notation, FMG is $\\mathcal{O}(N)$. Where N is the number of unknowns. Exact methods (Gaussian Elimination, LU decomposition  ) are typically $\\mathcal{O}(N^3)$ "
   ]
  },
  {
   "cell_type": "markdown",
   "metadata": {},
   "source": [
    "## 2. Stationary iterative methods as preconditioners\n",
    "A preconditioner reduces the condition number of the coefficient matrix, thereby making it easier to solve. We dont explicitly need a matrix because we dont access the elements by index, coefficient matrix or preconditioner. What we do need is the action of the matrix on a vector. That is, we need only the matrix-vector product. The coefficient matrix can be defined as a function that takes in a vector and returns the matrix vector product.\n",
    "\n",
    "Any stationary method has an iteration matrix associated with it. This is easily seen for Jacobi or GS methods. This iteration matrix can be used as a preconditioner. But we dont explicitly need it. The stationary iterative method for solving an equation can be written as a Richardson iteration. When the initial guess is set to zero and one iteration is performed, what you get is the action of the preconditioner on the RHS vector. That is, we get a preconditioner-vector product, which is what we want.\n",
    "\n",
    "**This allows us to use any blackbox stationary iterative method as a preconditioner**\n",
    "\n",
    "To repeat, if there is a stationary iterative method that you want to use as a preconditioner, set the initial guess to zero, set the RHS to the vector you want to multiply the preconditioner with and perform one iteration of the stationary method.\n",
    "\n",
    "We can use the multigrid V-cycle as a preconditioner this way. We cant use FMG because it is not an iterative method.\n",
    "\n",
    "The matrix as a function can be defined using **LinearOperator** from **scipy.sparse.linalg**. It gives us an object which works like a matrix in-so-far as the product with a vector is concerned. It can be used as a regular 2D numpy array in multiplication with a vector. This can be passed to CG(), GMRES() or BiCGStab() as a preconditioner.\n",
    "\n",
    "Having a symmetric preconditioner would be nice because it will retain the symmetry if the original problem is symmetric and we can still use CG. If the preconditioner is not symmetric CG will not converge, and we would have to use a more general solver.\n",
    "\n",
    "Below is the code for defining a V-Cycle preconditioner. The default is one V-cycle. In the V-cycle, the defaults are one pre-sweep, one post-sweep. "
   ]
  },
  {
   "cell_type": "code",
   "execution_count": 12,
   "metadata": {},
   "outputs": [],
   "source": [
    "from scipy.sparse.linalg import LinearOperator,bicgstab,cg\n",
    "def MGVP(nx,ny,num_levels):\n",
    "  '''\n",
    "  Multigrid Preconditioner. Returns a (scipy.sparse.linalg.) LinearOperator that can\n",
    "  be passed to Krylov solvers as a preconditioner. \n",
    "  '''\n",
    "  def pc_fn(v):\n",
    "    u =np.zeros([nx+2,ny+2])\n",
    "    f =np.zeros([nx+2,ny+2])\n",
    "    f[1:nx+1,1:ny+1] =v.reshape([nx,ny]) #in practice this copying can be avoived\n",
    "    #perform one V cycle\n",
    "    u,res=V_cycle(nx,ny,num_levels,u,f)\n",
    "    return u[1:nx+1,1:ny+1].reshape(v.shape)\n",
    "  M=LinearOperator((nx*ny,nx*ny), matvec=pc_fn)\n",
    "  return M"
   ]
  },
  {
   "cell_type": "markdown",
   "metadata": {},
   "source": [
    "Let us define the Poisson matrix also as a LinearOperator "
   ]
  },
  {
   "cell_type": "code",
   "execution_count": 13,
   "metadata": {},
   "outputs": [],
   "source": [
    "def Laplace(nx,ny):\n",
    "  '''\n",
    "  Action of the Laplace matrix on a vector v\n",
    "  '''\n",
    "  def mv(v):\n",
    "    u =np.zeros([nx+2,ny+2])\n",
    "  \n",
    "    u[1:nx+1,1:ny+1]=v.reshape([nx,ny])\n",
    "    dx=1.0/nx; dy=1.0/ny\n",
    "    Ax=1.0/dx**2; Ay=1.0/dy**2\n",
    "  \n",
    "    #BCs. Needs to be generalized!\n",
    "    u[ 0,:] = -u[ 1,:]\n",
    "    u[-1,:] = -u[-2,:]\n",
    "    u[:, 0] = -u[:, 1]\n",
    "    u[:,-1] = -u[:,-2]\n",
    "\n",
    "    ut = (Ax*(u[2:nx+2,1:ny+1]+u[0:nx,1:ny+1])\n",
    "        + Ay*(u[1:nx+1,2:ny+2]+u[1:nx+1,0:ny])\n",
    "        - 2.0*(Ax+Ay)*u[1:nx+1,1:ny+1])\n",
    "    return ut.reshape(v.shape)\n",
    "  A = LinearOperator((nx*ny,nx*ny), matvec=mv)\n",
    "  return A"
   ]
  },
  {
   "cell_type": "markdown",
   "metadata": {},
   "source": [
    "The nested function is required because \"matvec\" in LinearOperator takes only one argument-- the vector. But we require the grid details and boundary condition information to create the Poisson matrix. Now will use these to solve a problem. Unlike earlier where we used an analytical solution and RHS, we will start with a random vector which will be our exact solution, and multiply it with the Poisson matrix to get the Rhs vector for the problem. There is no analytical equation associated with the matrix equation. \n",
    "\n",
    "The scipy sparse solve routines do not return the number of iterations performed. We can use this wrapper to get the number of iterations "
   ]
  },
  {
   "cell_type": "code",
   "execution_count": 14,
   "metadata": {},
   "outputs": [],
   "source": [
    "def solve_sparse(solver,A, b,tol=1e-10,maxiter=500,M=None):\n",
    "      num_iters = 0\n",
    "      def callback(xk):\n",
    "         nonlocal num_iters\n",
    "         num_iters+=1\n",
    "      x,status=solver(A, b,tol=tol,maxiter=maxiter,callback=callback,M=M)\n",
    "      return x,status,num_iters"
   ]
  },
  {
   "cell_type": "markdown",
   "metadata": {},
   "source": [
    "Lets look at what happens with and without the preconditioner."
   ]
  },
  {
   "cell_type": "code",
   "execution_count": 15,
   "metadata": {},
   "outputs": [
    {
     "name": "stdout",
     "output_type": "stream",
     "text": [
      "Without preconditioning. status: 0 , Iters:  153\n",
      "error : 1.25375958504e-08\n",
      "With preconditioning. status: 0 , Iters:  7\n",
      "error : 1.859129517e-11\n"
     ]
    }
   ],
   "source": [
    "A = Laplace(NX,NY)\n",
    "#Exact solution and RHS\n",
    "uex=np.random.rand(NX*NY,1)\n",
    "b=A*uex\n",
    "\n",
    "#Multigrid Preconditioner\n",
    "M=MGVP(NX,NY,nlevels)\n",
    "\n",
    "u,info,iters=solve_sparse(bicgstab,A,b,tol=1e-10,maxiter=500)\n",
    "print('Without preconditioning. status:',info,', Iters: ',iters)\n",
    "error=uex.reshape([NX,NY])-u.reshape([NX,NY])\n",
    "print('error :',np.max(np.abs(error)))\n",
    "\n",
    "u,info,iters=solve_sparse(bicgstab,A,b,tol=1e-10,maxiter=500,M=M)\n",
    "print('With preconditioning. status:',info,', Iters: ',iters)\n",
    "error=uex.reshape([NX,NY])-u.reshape([NX,NY])\n",
    "print('error :',np.max(np.abs(error)))"
   ]
  },
  {
   "cell_type": "markdown",
   "metadata": {},
   "source": [
    "Without the preconditioner ~150 iterations were needed, where as with the V-cycle preconditioner the solution was obtained in far fewer iterations. Let's try with CG:"
   ]
  },
  {
   "cell_type": "code",
   "execution_count": 16,
   "metadata": {},
   "outputs": [
    {
     "name": "stdout",
     "output_type": "stream",
     "text": [
      "Without preconditioning. status: 0 , Iters:  205\n",
      "error : 9.17815601298e-10\n",
      "With preconditioning. status: 0 , Iters:  15\n",
      "error : 2.02617589373e-10\n"
     ]
    }
   ],
   "source": [
    "u,info,iters=solve_sparse(cg,A,b,tol=1e-10,maxiter=500)\n",
    "print('Without preconditioning. status:',info,', Iters: ',iters)\n",
    "error=uex.reshape([NX,NY])-u.reshape([NX,NY])\n",
    "print('error :',np.max(np.abs(error)))\n",
    "\n",
    "u,info,iters=solve_sparse(cg,A,b,tol=1e-10,maxiter=500,M=M)\n",
    "print('With preconditioning. status:',info,', Iters: ',iters)\n",
    "error=uex.reshape([NX,NY])-u.reshape([NX,NY])\n",
    "print('error :',np.max(np.abs(error)))"
   ]
  },
  {
   "cell_type": "markdown",
   "metadata": {},
   "source": [
    "There we have it. A Multigrid Preconditioned Krylov Solver. We did all this without even having to deal with an actual matrix. How great is that! I think the next step should be solving a non-linear problem without having to deal with an actual Jacobian (matrix)."
   ]
  }
 ],
 "metadata": {
  "kernelspec": {
   "display_name": "Python 3",
   "language": "python",
   "name": "python3"
  },
  "language_info": {
   "codemirror_mode": {
    "name": "ipython",
    "version": 3
   },
   "file_extension": ".py",
   "mimetype": "text/x-python",
   "name": "python",
   "nbconvert_exporter": "python",
   "pygments_lexer": "ipython3",
   "version": "3.6.3"
  }
 },
 "nbformat": 4,
 "nbformat_minor": 1
}
